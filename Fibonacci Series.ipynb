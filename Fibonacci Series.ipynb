{
 "cells": [
  {
   "cell_type": "code",
   "execution_count": 4,
   "id": "5bac20f3",
   "metadata": {},
   "outputs": [
    {
     "name": "stdout",
     "output_type": "stream",
     "text": [
      "Enter the Terms: 12\n",
      "0\n",
      "1\n",
      "1\n",
      "2\n",
      "3\n",
      "5\n",
      "8\n",
      "13\n",
      "21\n",
      "34\n",
      "55\n",
      "89\n"
     ]
    }
   ],
   "source": [
    "\n",
    "# Enter the Terms\n",
    "\n",
    "term = int(input('Enter the Terms: '))\n",
    "\n",
    "\n",
    "# Inital numbers\n",
    "count =  0\n",
    "\n",
    "x , y = 0,1\n",
    "if terms <= 0:\n",
    "    print(\"Please Terms should be higher than 0\")\n",
    "elif terms == 1:\n",
    "    print(x)\n",
    "else:\n",
    "    while count < term:\n",
    "     print(x)\n",
    "     z = x + y\n",
    "     x = y\n",
    "     y = z\n",
    "     count += 1"
   ]
  },
  {
   "cell_type": "code",
   "execution_count": null,
   "id": "d1d64bea",
   "metadata": {},
   "outputs": [],
   "source": []
  }
 ],
 "metadata": {
  "kernelspec": {
   "display_name": "Python 3 (ipykernel)",
   "language": "python",
   "name": "python3"
  },
  "language_info": {
   "codemirror_mode": {
    "name": "ipython",
    "version": 3
   },
   "file_extension": ".py",
   "mimetype": "text/x-python",
   "name": "python",
   "nbconvert_exporter": "python",
   "pygments_lexer": "ipython3",
   "version": "3.9.7"
  }
 },
 "nbformat": 4,
 "nbformat_minor": 5
}
